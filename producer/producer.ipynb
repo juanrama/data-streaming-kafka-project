{
 "cells": [
  {
   "cell_type": "code",
   "execution_count": 4,
   "id": "37ce28f9-df41-4ced-8974-15030e34a0fc",
   "metadata": {
    "tags": []
   },
   "outputs": [
    {
     "name": "stdout",
     "output_type": "stream",
     "text": [
      "{'step': 1, 'type': 'PAYMENT', 'amount': 9839.64, 'nameOrig': 'C1231006815', 'newbalanceOrig': 160296.36, 'nameDest': 'M1979787155', 'newbalanceDest': 0.0}\n",
      "{'step': 1, 'type': 'PAYMENT', 'amount': 1864.28, 'nameOrig': 'C1666544295', 'newbalanceOrig': 19384.72, 'nameDest': 'M2044282225', 'newbalanceDest': 0.0}\n",
      "{'step': 1, 'type': 'TRANSFER', 'amount': 181.0, 'nameOrig': 'C1305486145', 'newbalanceOrig': 0.0, 'nameDest': 'C553264065', 'newbalanceDest': 0.0}\n",
      "{'step': 1, 'type': 'CASH_OUT', 'amount': 181.0, 'nameOrig': 'C840083671', 'newbalanceOrig': 0.0, 'nameDest': 'C38997010', 'newbalanceDest': 0.0}\n",
      "{'step': 1, 'type': 'PAYMENT', 'amount': 11668.14, 'nameOrig': 'C2048537720', 'newbalanceOrig': 29885.86, 'nameDest': 'M1230701703', 'newbalanceDest': 0.0}\n",
      "{'step': 1, 'type': 'PAYMENT', 'amount': 7817.71, 'nameOrig': 'C90045638', 'newbalanceOrig': 46042.29, 'nameDest': 'M573487274', 'newbalanceDest': 0.0}\n",
      "{'step': 1, 'type': 'PAYMENT', 'amount': 7107.77, 'nameOrig': 'C154988899', 'newbalanceOrig': 176087.23, 'nameDest': 'M408069119', 'newbalanceDest': 0.0}\n"
     ]
    },
    {
     "ename": "KeyboardInterrupt",
     "evalue": "",
     "output_type": "error",
     "traceback": [
      "\u001b[1;31m---------------------------------------------------------------------------\u001b[0m",
      "\u001b[1;31mKeyboardInterrupt\u001b[0m                         Traceback (most recent call last)",
      "Cell \u001b[1;32mIn[4], line 23\u001b[0m\n\u001b[0;32m     21\u001b[0m \u001b[39mprint\u001b[39m(data)\n\u001b[0;32m     22\u001b[0m producer\u001b[39m.\u001b[39msend(\u001b[39m\"\u001b[39m\u001b[39mftde01-project4-pipeline_wizard\u001b[39m\u001b[39m\"\u001b[39m, data)\n\u001b[1;32m---> 23\u001b[0m time\u001b[39m.\u001b[39;49msleep(\u001b[39m1\u001b[39;49m)\n",
      "\u001b[1;31mKeyboardInterrupt\u001b[0m: "
     ]
    }
   ],
   "source": [
    "#!python3\n",
    "\n",
    "import json\n",
    "import time\n",
    "import kafka\n",
    "import pandas as pd\n",
    "\n",
    "from kafka import KafkaProducer\n",
    "\n",
    "def json_serializer(data):\n",
    "    return json.dumps(data).encode(\"utf-8\")\n",
    "\n",
    "if __name__ == \"__main__\":\n",
    "\n",
    "    data = pd.read_csv('New_Information.csv')\n",
    "    json_data = data.to_dict(orient='records')\n",
    "    \n",
    "    producer = KafkaProducer(bootstrap_servers=['localhost:9092'], value_serializer=json_serializer)\n",
    "    while True:\n",
    "        for data in json_data:\n",
    "            print(data)\n",
    "            producer.send(\"ftde01-project4-pipeline_wizard\", data)\n",
    "            time.sleep(1)"
   ]
  }
 ],
 "metadata": {
  "kernelspec": {
   "display_name": "Python 3 (ipykernel)",
   "language": "python",
   "name": "python3"
  },
  "language_info": {
   "codemirror_mode": {
    "name": "ipython",
    "version": 3
   },
   "file_extension": ".py",
   "mimetype": "text/x-python",
   "name": "python",
   "nbconvert_exporter": "python",
   "pygments_lexer": "ipython3",
   "version": "3.11.9"
  }
 },
 "nbformat": 4,
 "nbformat_minor": 5
}
